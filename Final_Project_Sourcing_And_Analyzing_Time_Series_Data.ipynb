{
 "cells": [
  {
   "cell_type": "markdown",
   "metadata": {},
   "source": [
    "# Sourcing & Analyzing Time-Series Data"
   ]
  },
  {
   "cell_type": "markdown",
   "metadata": {},
   "source": [
    "### This script contains the following:\n",
    "\n",
    "#### 1. Importing libraries and data\n",
    "#### 2. Subsetting, wrangling, and cleaning time-series data\n",
    "#### 3. Time series analysis: decomposition\n",
    "#### 4. Testing for stationarity\n",
    "#### 5. Stationarizing the data"
   ]
  },
  {
   "cell_type": "markdown",
   "metadata": {},
   "source": [
    "##### Skipping straight to step three as I'll be using my main project data for the time-series analysis"
   ]
  },
  {
   "cell_type": "markdown",
   "metadata": {},
   "source": [
    "### 1. Importing libraries and data"
   ]
  },
  {
   "cell_type": "code",
   "execution_count": 160,
   "metadata": {},
   "outputs": [],
   "source": [
    "import pandas as pd\n",
    "import numpy as np\n",
    "import seaborn as sns\n",
    "import matplotlib\n",
    "import matplotlib.pyplot as plt\n",
    "import statsmodels.api as sm\n",
    "import os\n",
    "import warnings # This is a library that handles warnings\n",
    "\n",
    "warnings.filterwarnings(\"ignore\") # Disable deprecation warnings that could indicate a suspended library\n",
    "\n",
    "plt.style.use('fivethirtyeight') # This is a styling option for how your plots will appear"
   ]
  },
  {
   "cell_type": "code",
   "execution_count": 161,
   "metadata": {},
   "outputs": [],
   "source": [
    "# Create path\n",
    "\n",
    "path = r'/Users/chadstacey'"
   ]
  },
  {
   "cell_type": "code",
   "execution_count": 162,
   "metadata": {},
   "outputs": [],
   "source": [
    "# Import movies data\n",
    "\n",
    "movies = pd.read_pickle(os.path.join(path, 'CF_Final_Project', 'Data', 'Prepared_Data', 'movies_cleaned_1.pkl'))"
   ]
  },
  {
   "cell_type": "code",
   "execution_count": 163,
   "metadata": {},
   "outputs": [
    {
     "data": {
      "text/plain": [
       "budget                   float64\n",
       "company                   object\n",
       "country                   object\n",
       "director                  object\n",
       "genre                     object\n",
       "gross                    float64\n",
       "name                      object\n",
       "rating                    object\n",
       "released          datetime64[ns]\n",
       "runtime                    int64\n",
       "score                    float64\n",
       "star                      object\n",
       "votes                      int64\n",
       "writer                    object\n",
       "year                      object\n",
       "profit                   float64\n",
       "score category            object\n",
       "dtype: object"
      ]
     },
     "execution_count": 163,
     "metadata": {},
     "output_type": "execute_result"
    }
   ],
   "source": [
    "movies.dtypes"
   ]
  },
  {
   "cell_type": "code",
   "execution_count": 164,
   "metadata": {},
   "outputs": [],
   "source": [
    "# Remove categorical variables (except name, country and year)\n",
    "\n",
    "movies = movies.drop(['company', 'director', 'genre', 'rating', 'star', 'writer', 'score category', 'released'], axis=1)"
   ]
  },
  {
   "cell_type": "code",
   "execution_count": 165,
   "metadata": {},
   "outputs": [
    {
     "data": {
      "text/html": [
       "<div>\n",
       "<style scoped>\n",
       "    .dataframe tbody tr th:only-of-type {\n",
       "        vertical-align: middle;\n",
       "    }\n",
       "\n",
       "    .dataframe tbody tr th {\n",
       "        vertical-align: top;\n",
       "    }\n",
       "\n",
       "    .dataframe thead th {\n",
       "        text-align: right;\n",
       "    }\n",
       "</style>\n",
       "<table border=\"1\" class=\"dataframe\">\n",
       "  <thead>\n",
       "    <tr style=\"text-align: right;\">\n",
       "      <th></th>\n",
       "      <th>budget</th>\n",
       "      <th>country</th>\n",
       "      <th>gross</th>\n",
       "      <th>name</th>\n",
       "      <th>runtime</th>\n",
       "      <th>score</th>\n",
       "      <th>votes</th>\n",
       "      <th>year</th>\n",
       "      <th>profit</th>\n",
       "    </tr>\n",
       "  </thead>\n",
       "  <tbody>\n",
       "    <tr>\n",
       "      <th>0</th>\n",
       "      <td>8000000.0</td>\n",
       "      <td>USA</td>\n",
       "      <td>52287414.0</td>\n",
       "      <td>Stand by Me</td>\n",
       "      <td>89</td>\n",
       "      <td>8.1</td>\n",
       "      <td>299174</td>\n",
       "      <td>1986</td>\n",
       "      <td>44287414.0</td>\n",
       "    </tr>\n",
       "    <tr>\n",
       "      <th>1</th>\n",
       "      <td>6000000.0</td>\n",
       "      <td>USA</td>\n",
       "      <td>70136369.0</td>\n",
       "      <td>Ferris Bueller's Day Off</td>\n",
       "      <td>103</td>\n",
       "      <td>7.8</td>\n",
       "      <td>264740</td>\n",
       "      <td>1986</td>\n",
       "      <td>64136369.0</td>\n",
       "    </tr>\n",
       "    <tr>\n",
       "      <th>2</th>\n",
       "      <td>15000000.0</td>\n",
       "      <td>USA</td>\n",
       "      <td>179800601.0</td>\n",
       "      <td>Top Gun</td>\n",
       "      <td>110</td>\n",
       "      <td>6.9</td>\n",
       "      <td>236909</td>\n",
       "      <td>1986</td>\n",
       "      <td>164800601.0</td>\n",
       "    </tr>\n",
       "    <tr>\n",
       "      <th>3</th>\n",
       "      <td>18500000.0</td>\n",
       "      <td>USA</td>\n",
       "      <td>85160248.0</td>\n",
       "      <td>Aliens</td>\n",
       "      <td>137</td>\n",
       "      <td>8.4</td>\n",
       "      <td>540152</td>\n",
       "      <td>1986</td>\n",
       "      <td>66660248.0</td>\n",
       "    </tr>\n",
       "    <tr>\n",
       "      <th>4</th>\n",
       "      <td>9000000.0</td>\n",
       "      <td>USA</td>\n",
       "      <td>18564613.0</td>\n",
       "      <td>Flight of the Navigator</td>\n",
       "      <td>90</td>\n",
       "      <td>6.9</td>\n",
       "      <td>36636</td>\n",
       "      <td>1986</td>\n",
       "      <td>9564613.0</td>\n",
       "    </tr>\n",
       "  </tbody>\n",
       "</table>\n",
       "</div>"
      ],
      "text/plain": [
       "       budget country        gross                      name  runtime  score  \\\n",
       "0   8000000.0     USA   52287414.0               Stand by Me       89    8.1   \n",
       "1   6000000.0     USA   70136369.0  Ferris Bueller's Day Off      103    7.8   \n",
       "2  15000000.0     USA  179800601.0                   Top Gun      110    6.9   \n",
       "3  18500000.0     USA   85160248.0                    Aliens      137    8.4   \n",
       "4   9000000.0     USA   18564613.0   Flight of the Navigator       90    6.9   \n",
       "\n",
       "    votes  year       profit  \n",
       "0  299174  1986   44287414.0  \n",
       "1  264740  1986   64136369.0  \n",
       "2  236909  1986  164800601.0  \n",
       "3  540152  1986   66660248.0  \n",
       "4   36636  1986    9564613.0  "
      ]
     },
     "execution_count": 165,
     "metadata": {},
     "output_type": "execute_result"
    }
   ],
   "source": [
    "movies.head()"
   ]
  },
  {
   "cell_type": "markdown",
   "metadata": {},
   "source": [
    "### 2. Subsetting, wrangling, and cleaning time-series data"
   ]
  },
  {
   "cell_type": "markdown",
   "metadata": {},
   "source": [
    "I am going to perform a time series analysis on the top 100 films (in terms of budget) each year specifically from the US. So I need to create a subset which firstly filters out films which aren't from the US and then focuses on the top 100 from the US between 1986 - 2016."
   ]
  },
  {
   "cell_type": "code",
   "execution_count": 166,
   "metadata": {},
   "outputs": [],
   "source": [
    "# Firstly filter out films which arent from the US\n",
    "\n",
    "us_movies = movies[movies['country'] == 'USA']"
   ]
  },
  {
   "cell_type": "code",
   "execution_count": 167,
   "metadata": {},
   "outputs": [
    {
     "data": {
      "text/plain": [
       "(4872, 9)"
      ]
     },
     "execution_count": 167,
     "metadata": {},
     "output_type": "execute_result"
    }
   ],
   "source": [
    "us_movies.shape"
   ]
  },
  {
   "cell_type": "code",
   "execution_count": 168,
   "metadata": {},
   "outputs": [],
   "source": [
    "# Then rank these in ascending order in terms of budget and year \n",
    "\n",
    "us_movies['rank'] = us_movies.groupby(by=['year'])['budget'].transform(lambda x: x.rank(method=\"first\", ascending=False))"
   ]
  },
  {
   "cell_type": "code",
   "execution_count": 169,
   "metadata": {},
   "outputs": [
    {
     "data": {
      "text/html": [
       "<div>\n",
       "<style scoped>\n",
       "    .dataframe tbody tr th:only-of-type {\n",
       "        vertical-align: middle;\n",
       "    }\n",
       "\n",
       "    .dataframe tbody tr th {\n",
       "        vertical-align: top;\n",
       "    }\n",
       "\n",
       "    .dataframe thead th {\n",
       "        text-align: right;\n",
       "    }\n",
       "</style>\n",
       "<table border=\"1\" class=\"dataframe\">\n",
       "  <thead>\n",
       "    <tr style=\"text-align: right;\">\n",
       "      <th></th>\n",
       "      <th>budget</th>\n",
       "      <th>country</th>\n",
       "      <th>gross</th>\n",
       "      <th>name</th>\n",
       "      <th>runtime</th>\n",
       "      <th>score</th>\n",
       "      <th>votes</th>\n",
       "      <th>year</th>\n",
       "      <th>profit</th>\n",
       "      <th>rank</th>\n",
       "    </tr>\n",
       "  </thead>\n",
       "  <tbody>\n",
       "    <tr>\n",
       "      <th>0</th>\n",
       "      <td>8000000.0</td>\n",
       "      <td>USA</td>\n",
       "      <td>52287414.0</td>\n",
       "      <td>Stand by Me</td>\n",
       "      <td>89</td>\n",
       "      <td>8.1</td>\n",
       "      <td>299174</td>\n",
       "      <td>1986</td>\n",
       "      <td>44287414.0</td>\n",
       "      <td>51.0</td>\n",
       "    </tr>\n",
       "    <tr>\n",
       "      <th>1</th>\n",
       "      <td>6000000.0</td>\n",
       "      <td>USA</td>\n",
       "      <td>70136369.0</td>\n",
       "      <td>Ferris Bueller's Day Off</td>\n",
       "      <td>103</td>\n",
       "      <td>7.8</td>\n",
       "      <td>264740</td>\n",
       "      <td>1986</td>\n",
       "      <td>64136369.0</td>\n",
       "      <td>55.0</td>\n",
       "    </tr>\n",
       "    <tr>\n",
       "      <th>2</th>\n",
       "      <td>15000000.0</td>\n",
       "      <td>USA</td>\n",
       "      <td>179800601.0</td>\n",
       "      <td>Top Gun</td>\n",
       "      <td>110</td>\n",
       "      <td>6.9</td>\n",
       "      <td>236909</td>\n",
       "      <td>1986</td>\n",
       "      <td>164800601.0</td>\n",
       "      <td>25.0</td>\n",
       "    </tr>\n",
       "    <tr>\n",
       "      <th>3</th>\n",
       "      <td>18500000.0</td>\n",
       "      <td>USA</td>\n",
       "      <td>85160248.0</td>\n",
       "      <td>Aliens</td>\n",
       "      <td>137</td>\n",
       "      <td>8.4</td>\n",
       "      <td>540152</td>\n",
       "      <td>1986</td>\n",
       "      <td>66660248.0</td>\n",
       "      <td>15.0</td>\n",
       "    </tr>\n",
       "    <tr>\n",
       "      <th>4</th>\n",
       "      <td>9000000.0</td>\n",
       "      <td>USA</td>\n",
       "      <td>18564613.0</td>\n",
       "      <td>Flight of the Navigator</td>\n",
       "      <td>90</td>\n",
       "      <td>6.9</td>\n",
       "      <td>36636</td>\n",
       "      <td>1986</td>\n",
       "      <td>9564613.0</td>\n",
       "      <td>47.0</td>\n",
       "    </tr>\n",
       "    <tr>\n",
       "      <th>...</th>\n",
       "      <td>...</td>\n",
       "      <td>...</td>\n",
       "      <td>...</td>\n",
       "      <td>...</td>\n",
       "      <td>...</td>\n",
       "      <td>...</td>\n",
       "      <td>...</td>\n",
       "      <td>...</td>\n",
       "      <td>...</td>\n",
       "      <td>...</td>\n",
       "    </tr>\n",
       "    <tr>\n",
       "      <th>6813</th>\n",
       "      <td>0.0</td>\n",
       "      <td>USA</td>\n",
       "      <td>228894.0</td>\n",
       "      <td>The Love Witch</td>\n",
       "      <td>120</td>\n",
       "      <td>6.2</td>\n",
       "      <td>6054</td>\n",
       "      <td>2016</td>\n",
       "      <td>228894.0</td>\n",
       "      <td>132.0</td>\n",
       "    </tr>\n",
       "    <tr>\n",
       "      <th>6814</th>\n",
       "      <td>20000000.0</td>\n",
       "      <td>USA</td>\n",
       "      <td>36874745.0</td>\n",
       "      <td>Risen</td>\n",
       "      <td>107</td>\n",
       "      <td>6.3</td>\n",
       "      <td>19084</td>\n",
       "      <td>2016</td>\n",
       "      <td>16874745.0</td>\n",
       "      <td>78.0</td>\n",
       "    </tr>\n",
       "    <tr>\n",
       "      <th>6816</th>\n",
       "      <td>0.0</td>\n",
       "      <td>USA</td>\n",
       "      <td>28368.0</td>\n",
       "      <td>Mothers and Daughters</td>\n",
       "      <td>90</td>\n",
       "      <td>4.9</td>\n",
       "      <td>1959</td>\n",
       "      <td>2016</td>\n",
       "      <td>28368.0</td>\n",
       "      <td>133.0</td>\n",
       "    </tr>\n",
       "    <tr>\n",
       "      <th>6817</th>\n",
       "      <td>3500000.0</td>\n",
       "      <td>USA</td>\n",
       "      <td>3775000.0</td>\n",
       "      <td>Batman: The Killing Joke</td>\n",
       "      <td>76</td>\n",
       "      <td>6.5</td>\n",
       "      <td>36333</td>\n",
       "      <td>2016</td>\n",
       "      <td>275000.0</td>\n",
       "      <td>110.0</td>\n",
       "    </tr>\n",
       "    <tr>\n",
       "      <th>6818</th>\n",
       "      <td>0.0</td>\n",
       "      <td>USA</td>\n",
       "      <td>25981.0</td>\n",
       "      <td>The Eyes of My Mother</td>\n",
       "      <td>76</td>\n",
       "      <td>6.2</td>\n",
       "      <td>6947</td>\n",
       "      <td>2016</td>\n",
       "      <td>25981.0</td>\n",
       "      <td>134.0</td>\n",
       "    </tr>\n",
       "  </tbody>\n",
       "</table>\n",
       "<p>4872 rows × 10 columns</p>\n",
       "</div>"
      ],
      "text/plain": [
       "          budget country        gross                      name  runtime  \\\n",
       "0      8000000.0     USA   52287414.0               Stand by Me       89   \n",
       "1      6000000.0     USA   70136369.0  Ferris Bueller's Day Off      103   \n",
       "2     15000000.0     USA  179800601.0                   Top Gun      110   \n",
       "3     18500000.0     USA   85160248.0                    Aliens      137   \n",
       "4      9000000.0     USA   18564613.0   Flight of the Navigator       90   \n",
       "...          ...     ...          ...                       ...      ...   \n",
       "6813         0.0     USA     228894.0            The Love Witch      120   \n",
       "6814  20000000.0     USA   36874745.0                     Risen      107   \n",
       "6816         0.0     USA      28368.0     Mothers and Daughters       90   \n",
       "6817   3500000.0     USA    3775000.0  Batman: The Killing Joke       76   \n",
       "6818         0.0     USA      25981.0     The Eyes of My Mother       76   \n",
       "\n",
       "      score   votes  year       profit   rank  \n",
       "0       8.1  299174  1986   44287414.0   51.0  \n",
       "1       7.8  264740  1986   64136369.0   55.0  \n",
       "2       6.9  236909  1986  164800601.0   25.0  \n",
       "3       8.4  540152  1986   66660248.0   15.0  \n",
       "4       6.9   36636  1986    9564613.0   47.0  \n",
       "...     ...     ...   ...          ...    ...  \n",
       "6813    6.2    6054  2016     228894.0  132.0  \n",
       "6814    6.3   19084  2016   16874745.0   78.0  \n",
       "6816    4.9    1959  2016      28368.0  133.0  \n",
       "6817    6.5   36333  2016     275000.0  110.0  \n",
       "6818    6.2    6947  2016      25981.0  134.0  \n",
       "\n",
       "[4872 rows x 10 columns]"
      ]
     },
     "execution_count": 169,
     "metadata": {},
     "output_type": "execute_result"
    }
   ],
   "source": [
    "us_movies "
   ]
  },
  {
   "cell_type": "code",
   "execution_count": 170,
   "metadata": {},
   "outputs": [],
   "source": [
    "# Then delete any films that fall outside the top 100\n",
    "\n",
    "us_movies_top = us_movies[us_movies['rank'] <= 100]"
   ]
  },
  {
   "cell_type": "code",
   "execution_count": 171,
   "metadata": {
    "scrolled": false
   },
   "outputs": [
    {
     "data": {
      "text/html": [
       "<div>\n",
       "<style scoped>\n",
       "    .dataframe tbody tr th:only-of-type {\n",
       "        vertical-align: middle;\n",
       "    }\n",
       "\n",
       "    .dataframe tbody tr th {\n",
       "        vertical-align: top;\n",
       "    }\n",
       "\n",
       "    .dataframe thead th {\n",
       "        text-align: right;\n",
       "    }\n",
       "</style>\n",
       "<table border=\"1\" class=\"dataframe\">\n",
       "  <thead>\n",
       "    <tr style=\"text-align: right;\">\n",
       "      <th></th>\n",
       "      <th>budget</th>\n",
       "      <th>country</th>\n",
       "      <th>gross</th>\n",
       "      <th>name</th>\n",
       "      <th>runtime</th>\n",
       "      <th>score</th>\n",
       "      <th>votes</th>\n",
       "      <th>year</th>\n",
       "      <th>profit</th>\n",
       "      <th>rank</th>\n",
       "    </tr>\n",
       "  </thead>\n",
       "  <tbody>\n",
       "    <tr>\n",
       "      <th>0</th>\n",
       "      <td>8000000.0</td>\n",
       "      <td>USA</td>\n",
       "      <td>52287414.0</td>\n",
       "      <td>Stand by Me</td>\n",
       "      <td>89</td>\n",
       "      <td>8.1</td>\n",
       "      <td>299174</td>\n",
       "      <td>1986</td>\n",
       "      <td>44287414.0</td>\n",
       "      <td>51.0</td>\n",
       "    </tr>\n",
       "    <tr>\n",
       "      <th>1</th>\n",
       "      <td>6000000.0</td>\n",
       "      <td>USA</td>\n",
       "      <td>70136369.0</td>\n",
       "      <td>Ferris Bueller's Day Off</td>\n",
       "      <td>103</td>\n",
       "      <td>7.8</td>\n",
       "      <td>264740</td>\n",
       "      <td>1986</td>\n",
       "      <td>64136369.0</td>\n",
       "      <td>55.0</td>\n",
       "    </tr>\n",
       "    <tr>\n",
       "      <th>2</th>\n",
       "      <td>15000000.0</td>\n",
       "      <td>USA</td>\n",
       "      <td>179800601.0</td>\n",
       "      <td>Top Gun</td>\n",
       "      <td>110</td>\n",
       "      <td>6.9</td>\n",
       "      <td>236909</td>\n",
       "      <td>1986</td>\n",
       "      <td>164800601.0</td>\n",
       "      <td>25.0</td>\n",
       "    </tr>\n",
       "    <tr>\n",
       "      <th>3</th>\n",
       "      <td>18500000.0</td>\n",
       "      <td>USA</td>\n",
       "      <td>85160248.0</td>\n",
       "      <td>Aliens</td>\n",
       "      <td>137</td>\n",
       "      <td>8.4</td>\n",
       "      <td>540152</td>\n",
       "      <td>1986</td>\n",
       "      <td>66660248.0</td>\n",
       "      <td>15.0</td>\n",
       "    </tr>\n",
       "    <tr>\n",
       "      <th>4</th>\n",
       "      <td>9000000.0</td>\n",
       "      <td>USA</td>\n",
       "      <td>18564613.0</td>\n",
       "      <td>Flight of the Navigator</td>\n",
       "      <td>90</td>\n",
       "      <td>6.9</td>\n",
       "      <td>36636</td>\n",
       "      <td>1986</td>\n",
       "      <td>9564613.0</td>\n",
       "      <td>47.0</td>\n",
       "    </tr>\n",
       "    <tr>\n",
       "      <th>...</th>\n",
       "      <td>...</td>\n",
       "      <td>...</td>\n",
       "      <td>...</td>\n",
       "      <td>...</td>\n",
       "      <td>...</td>\n",
       "      <td>...</td>\n",
       "      <td>...</td>\n",
       "      <td>...</td>\n",
       "      <td>...</td>\n",
       "      <td>...</td>\n",
       "    </tr>\n",
       "    <tr>\n",
       "      <th>6796</th>\n",
       "      <td>15000000.0</td>\n",
       "      <td>USA</td>\n",
       "      <td>2411580.0</td>\n",
       "      <td>The Disappointments Room</td>\n",
       "      <td>85</td>\n",
       "      <td>3.9</td>\n",
       "      <td>6287</td>\n",
       "      <td>2016</td>\n",
       "      <td>-12588420.0</td>\n",
       "      <td>87.0</td>\n",
       "    </tr>\n",
       "    <tr>\n",
       "      <th>6799</th>\n",
       "      <td>18000000.0</td>\n",
       "      <td>USA</td>\n",
       "      <td>59573085.0</td>\n",
       "      <td>My Big Fat Greek Wedding 2</td>\n",
       "      <td>94</td>\n",
       "      <td>6.0</td>\n",
       "      <td>22142</td>\n",
       "      <td>2016</td>\n",
       "      <td>41573085.0</td>\n",
       "      <td>81.0</td>\n",
       "    </tr>\n",
       "    <tr>\n",
       "      <th>6800</th>\n",
       "      <td>17000000.0</td>\n",
       "      <td>USA</td>\n",
       "      <td>41715860.0</td>\n",
       "      <td>Almost Christmas</td>\n",
       "      <td>111</td>\n",
       "      <td>6.0</td>\n",
       "      <td>3366</td>\n",
       "      <td>2016</td>\n",
       "      <td>24715860.0</td>\n",
       "      <td>83.0</td>\n",
       "    </tr>\n",
       "    <tr>\n",
       "      <th>6811</th>\n",
       "      <td>8500000.0</td>\n",
       "      <td>USA</td>\n",
       "      <td>19985196.0</td>\n",
       "      <td>Middle School: The Worst Years of My Life</td>\n",
       "      <td>92</td>\n",
       "      <td>6.1</td>\n",
       "      <td>4556</td>\n",
       "      <td>2016</td>\n",
       "      <td>11485196.0</td>\n",
       "      <td>98.0</td>\n",
       "    </tr>\n",
       "    <tr>\n",
       "      <th>6814</th>\n",
       "      <td>20000000.0</td>\n",
       "      <td>USA</td>\n",
       "      <td>36874745.0</td>\n",
       "      <td>Risen</td>\n",
       "      <td>107</td>\n",
       "      <td>6.3</td>\n",
       "      <td>19084</td>\n",
       "      <td>2016</td>\n",
       "      <td>16874745.0</td>\n",
       "      <td>78.0</td>\n",
       "    </tr>\n",
       "  </tbody>\n",
       "</table>\n",
       "<p>3100 rows × 10 columns</p>\n",
       "</div>"
      ],
      "text/plain": [
       "          budget country        gross  \\\n",
       "0      8000000.0     USA   52287414.0   \n",
       "1      6000000.0     USA   70136369.0   \n",
       "2     15000000.0     USA  179800601.0   \n",
       "3     18500000.0     USA   85160248.0   \n",
       "4      9000000.0     USA   18564613.0   \n",
       "...          ...     ...          ...   \n",
       "6796  15000000.0     USA    2411580.0   \n",
       "6799  18000000.0     USA   59573085.0   \n",
       "6800  17000000.0     USA   41715860.0   \n",
       "6811   8500000.0     USA   19985196.0   \n",
       "6814  20000000.0     USA   36874745.0   \n",
       "\n",
       "                                           name  runtime  score   votes  year  \\\n",
       "0                                   Stand by Me       89    8.1  299174  1986   \n",
       "1                      Ferris Bueller's Day Off      103    7.8  264740  1986   \n",
       "2                                       Top Gun      110    6.9  236909  1986   \n",
       "3                                        Aliens      137    8.4  540152  1986   \n",
       "4                       Flight of the Navigator       90    6.9   36636  1986   \n",
       "...                                         ...      ...    ...     ...   ...   \n",
       "6796                   The Disappointments Room       85    3.9    6287  2016   \n",
       "6799                 My Big Fat Greek Wedding 2       94    6.0   22142  2016   \n",
       "6800                           Almost Christmas      111    6.0    3366  2016   \n",
       "6811  Middle School: The Worst Years of My Life       92    6.1    4556  2016   \n",
       "6814                                      Risen      107    6.3   19084  2016   \n",
       "\n",
       "           profit  rank  \n",
       "0      44287414.0  51.0  \n",
       "1      64136369.0  55.0  \n",
       "2     164800601.0  25.0  \n",
       "3      66660248.0  15.0  \n",
       "4       9564613.0  47.0  \n",
       "...           ...   ...  \n",
       "6796  -12588420.0  87.0  \n",
       "6799   41573085.0  81.0  \n",
       "6800   24715860.0  83.0  \n",
       "6811   11485196.0  98.0  \n",
       "6814   16874745.0  78.0  \n",
       "\n",
       "[3100 rows x 10 columns]"
      ]
     },
     "execution_count": 171,
     "metadata": {},
     "output_type": "execute_result"
    }
   ],
   "source": [
    "# And voila - this is the dataframe I will use for time series analysis\n",
    "\n",
    "us_movies_top"
   ]
  },
  {
   "cell_type": "code",
   "execution_count": 172,
   "metadata": {},
   "outputs": [],
   "source": [
    "# Drop country column as all the films are from the US\n",
    "\n",
    "us_movies_top = us_movies_top.drop(['country'], axis=1)"
   ]
  },
  {
   "cell_type": "code",
   "execution_count": 173,
   "metadata": {},
   "outputs": [],
   "source": [
    "# Create subset with just budget and released\n",
    "\n",
    "budget_year = us_movies_top.drop(['gross', 'name', 'runtime', 'score', 'votes', 'profit', 'rank'], axis=1)"
   ]
  },
  {
   "cell_type": "code",
   "execution_count": 174,
   "metadata": {},
   "outputs": [
    {
     "data": {
      "text/html": [
       "<div>\n",
       "<style scoped>\n",
       "    .dataframe tbody tr th:only-of-type {\n",
       "        vertical-align: middle;\n",
       "    }\n",
       "\n",
       "    .dataframe tbody tr th {\n",
       "        vertical-align: top;\n",
       "    }\n",
       "\n",
       "    .dataframe thead th {\n",
       "        text-align: right;\n",
       "    }\n",
       "</style>\n",
       "<table border=\"1\" class=\"dataframe\">\n",
       "  <thead>\n",
       "    <tr style=\"text-align: right;\">\n",
       "      <th></th>\n",
       "      <th>budget</th>\n",
       "      <th>year</th>\n",
       "    </tr>\n",
       "  </thead>\n",
       "  <tbody>\n",
       "    <tr>\n",
       "      <th>0</th>\n",
       "      <td>8000000.0</td>\n",
       "      <td>1986</td>\n",
       "    </tr>\n",
       "    <tr>\n",
       "      <th>1</th>\n",
       "      <td>6000000.0</td>\n",
       "      <td>1986</td>\n",
       "    </tr>\n",
       "    <tr>\n",
       "      <th>2</th>\n",
       "      <td>15000000.0</td>\n",
       "      <td>1986</td>\n",
       "    </tr>\n",
       "    <tr>\n",
       "      <th>3</th>\n",
       "      <td>18500000.0</td>\n",
       "      <td>1986</td>\n",
       "    </tr>\n",
       "    <tr>\n",
       "      <th>4</th>\n",
       "      <td>9000000.0</td>\n",
       "      <td>1986</td>\n",
       "    </tr>\n",
       "    <tr>\n",
       "      <th>...</th>\n",
       "      <td>...</td>\n",
       "      <td>...</td>\n",
       "    </tr>\n",
       "    <tr>\n",
       "      <th>6796</th>\n",
       "      <td>15000000.0</td>\n",
       "      <td>2016</td>\n",
       "    </tr>\n",
       "    <tr>\n",
       "      <th>6799</th>\n",
       "      <td>18000000.0</td>\n",
       "      <td>2016</td>\n",
       "    </tr>\n",
       "    <tr>\n",
       "      <th>6800</th>\n",
       "      <td>17000000.0</td>\n",
       "      <td>2016</td>\n",
       "    </tr>\n",
       "    <tr>\n",
       "      <th>6811</th>\n",
       "      <td>8500000.0</td>\n",
       "      <td>2016</td>\n",
       "    </tr>\n",
       "    <tr>\n",
       "      <th>6814</th>\n",
       "      <td>20000000.0</td>\n",
       "      <td>2016</td>\n",
       "    </tr>\n",
       "  </tbody>\n",
       "</table>\n",
       "<p>3100 rows × 2 columns</p>\n",
       "</div>"
      ],
      "text/plain": [
       "          budget  year\n",
       "0      8000000.0  1986\n",
       "1      6000000.0  1986\n",
       "2     15000000.0  1986\n",
       "3     18500000.0  1986\n",
       "4      9000000.0  1986\n",
       "...          ...   ...\n",
       "6796  15000000.0  2016\n",
       "6799  18000000.0  2016\n",
       "6800  17000000.0  2016\n",
       "6811   8500000.0  2016\n",
       "6814  20000000.0  2016\n",
       "\n",
       "[3100 rows x 2 columns]"
      ]
     },
     "execution_count": 174,
     "metadata": {},
     "output_type": "execute_result"
    }
   ],
   "source": [
    "budget_year"
   ]
  },
  {
   "cell_type": "code",
   "execution_count": 175,
   "metadata": {},
   "outputs": [],
   "source": [
    "# Get sum of budgets according to year\n",
    "\n",
    "budget_year = budget_year.groupby('year')['budget'].sum()"
   ]
  },
  {
   "cell_type": "code",
   "execution_count": 176,
   "metadata": {},
   "outputs": [
    {
     "data": {
      "text/plain": [
       "pandas.core.series.Series"
      ]
     },
     "execution_count": 176,
     "metadata": {},
     "output_type": "execute_result"
    }
   ],
   "source": [
    "# Check type\n",
    "\n",
    "type(budget_year)"
   ]
  },
  {
   "cell_type": "code",
   "execution_count": 177,
   "metadata": {},
   "outputs": [],
   "source": [
    "# Convert to dataframe\n",
    "\n",
    "budget_year = pd.DataFrame(budget_year)"
   ]
  },
  {
   "cell_type": "code",
   "execution_count": 178,
   "metadata": {},
   "outputs": [
    {
     "data": {
      "text/html": [
       "<div>\n",
       "<style scoped>\n",
       "    .dataframe tbody tr th:only-of-type {\n",
       "        vertical-align: middle;\n",
       "    }\n",
       "\n",
       "    .dataframe tbody tr th {\n",
       "        vertical-align: top;\n",
       "    }\n",
       "\n",
       "    .dataframe thead th {\n",
       "        text-align: right;\n",
       "    }\n",
       "</style>\n",
       "<table border=\"1\" class=\"dataframe\">\n",
       "  <thead>\n",
       "    <tr style=\"text-align: right;\">\n",
       "      <th></th>\n",
       "      <th>budget</th>\n",
       "    </tr>\n",
       "    <tr>\n",
       "      <th>year</th>\n",
       "      <th></th>\n",
       "    </tr>\n",
       "  </thead>\n",
       "  <tbody>\n",
       "    <tr>\n",
       "      <th>1986</th>\n",
       "      <td>9.588874e+08</td>\n",
       "    </tr>\n",
       "    <tr>\n",
       "      <th>1987</th>\n",
       "      <td>9.976450e+08</td>\n",
       "    </tr>\n",
       "    <tr>\n",
       "      <th>1988</th>\n",
       "      <td>1.377900e+09</td>\n",
       "    </tr>\n",
       "    <tr>\n",
       "      <th>1989</th>\n",
       "      <td>1.377575e+09</td>\n",
       "    </tr>\n",
       "    <tr>\n",
       "      <th>1990</th>\n",
       "      <td>1.639217e+09</td>\n",
       "    </tr>\n",
       "  </tbody>\n",
       "</table>\n",
       "</div>"
      ],
      "text/plain": [
       "            budget\n",
       "year              \n",
       "1986  9.588874e+08\n",
       "1987  9.976450e+08\n",
       "1988  1.377900e+09\n",
       "1989  1.377575e+09\n",
       "1990  1.639217e+09"
      ]
     },
     "execution_count": 178,
     "metadata": {},
     "output_type": "execute_result"
    }
   ],
   "source": [
    "budget_year.head()"
   ]
  },
  {
   "cell_type": "code",
   "execution_count": 180,
   "metadata": {},
   "outputs": [],
   "source": [
    "# Reset index\n",
    "\n",
    "budget_year = budget_year.reset_index()"
   ]
  },
  {
   "cell_type": "code",
   "execution_count": 181,
   "metadata": {},
   "outputs": [
    {
     "data": {
      "text/html": [
       "<div>\n",
       "<style scoped>\n",
       "    .dataframe tbody tr th:only-of-type {\n",
       "        vertical-align: middle;\n",
       "    }\n",
       "\n",
       "    .dataframe tbody tr th {\n",
       "        vertical-align: top;\n",
       "    }\n",
       "\n",
       "    .dataframe thead th {\n",
       "        text-align: right;\n",
       "    }\n",
       "</style>\n",
       "<table border=\"1\" class=\"dataframe\">\n",
       "  <thead>\n",
       "    <tr style=\"text-align: right;\">\n",
       "      <th></th>\n",
       "      <th>year</th>\n",
       "      <th>budget</th>\n",
       "    </tr>\n",
       "    <tr>\n",
       "      <th>datetime</th>\n",
       "      <th></th>\n",
       "      <th></th>\n",
       "    </tr>\n",
       "  </thead>\n",
       "  <tbody>\n",
       "    <tr>\n",
       "      <th>1986-01-01</th>\n",
       "      <td>1986</td>\n",
       "      <td>9.588874e+08</td>\n",
       "    </tr>\n",
       "    <tr>\n",
       "      <th>1987-01-01</th>\n",
       "      <td>1987</td>\n",
       "      <td>9.976450e+08</td>\n",
       "    </tr>\n",
       "    <tr>\n",
       "      <th>1988-01-01</th>\n",
       "      <td>1988</td>\n",
       "      <td>1.377900e+09</td>\n",
       "    </tr>\n",
       "    <tr>\n",
       "      <th>1989-01-01</th>\n",
       "      <td>1989</td>\n",
       "      <td>1.377575e+09</td>\n",
       "    </tr>\n",
       "    <tr>\n",
       "      <th>1990-01-01</th>\n",
       "      <td>1990</td>\n",
       "      <td>1.639217e+09</td>\n",
       "    </tr>\n",
       "  </tbody>\n",
       "</table>\n",
       "</div>"
      ],
      "text/plain": [
       "            year        budget\n",
       "datetime                      \n",
       "1986-01-01  1986  9.588874e+08\n",
       "1987-01-01  1987  9.976450e+08\n",
       "1988-01-01  1988  1.377900e+09\n",
       "1989-01-01  1989  1.377575e+09\n",
       "1990-01-01  1990  1.639217e+09"
      ]
     },
     "execution_count": 181,
     "metadata": {},
     "output_type": "execute_result"
    }
   ],
   "source": [
    "from datetime import datetime\n",
    "\n",
    "budget_year['datetime'] = pd.to_datetime(budget_year['year'], format='%Y') # Create a datetime column from 'year'\n",
    "budget_year = budget_year.set_index('datetime') # Set the datetime as the index of the dataframe\n",
    "budget_year.head()"
   ]
  },
  {
   "cell_type": "code",
   "execution_count": 182,
   "metadata": {},
   "outputs": [],
   "source": [
    "# Drop year column\n",
    "\n",
    "budget_year.drop(['year'], axis=1, inplace=True)"
   ]
  },
  {
   "cell_type": "code",
   "execution_count": 183,
   "metadata": {},
   "outputs": [
    {
     "data": {
      "text/plain": [
       "budget    0\n",
       "dtype: int64"
      ]
     },
     "execution_count": 183,
     "metadata": {},
     "output_type": "execute_result"
    }
   ],
   "source": [
    "# Check for missing values\n",
    "\n",
    "budget_year.isnull().sum() "
   ]
  },
  {
   "cell_type": "code",
   "execution_count": 184,
   "metadata": {},
   "outputs": [
    {
     "data": {
      "text/plain": [
       "0"
      ]
     },
     "execution_count": 184,
     "metadata": {},
     "output_type": "execute_result"
    }
   ],
   "source": [
    "# Check for duplicates\n",
    "\n",
    "dups = budget_year.duplicated()\n",
    "dups.sum()\n",
    "\n",
    "# No dups "
   ]
  },
  {
   "cell_type": "markdown",
   "metadata": {},
   "source": [
    "### 3. Time-series analysis: decomposition"
   ]
  },
  {
   "cell_type": "code",
   "execution_count": 185,
   "metadata": {},
   "outputs": [
    {
     "data": {
      "text/plain": [
       "<Figure size 1500x500 with 0 Axes>"
      ]
     },
     "execution_count": 185,
     "metadata": {},
     "output_type": "execute_result"
    },
    {
     "data": {
      "text/plain": [
       "<Figure size 1500x500 with 0 Axes>"
      ]
     },
     "metadata": {},
     "output_type": "display_data"
    }
   ],
   "source": [
    "plt.figure(figsize=(15,5), dpi=100)"
   ]
  },
  {
   "cell_type": "code",
   "execution_count": 186,
   "metadata": {},
   "outputs": [
    {
     "data": {
      "text/plain": [
       "[<matplotlib.lines.Line2D at 0x126a77ac0>]"
      ]
     },
     "execution_count": 186,
     "metadata": {},
     "output_type": "execute_result"
    },
    {
     "data": {
      "image/png": "[encoded data removed]",
      "text/plain": [
       "<Figure size 1296x504 with 1 Axes>"
      ]
     },
     "metadata": {},
     "output_type": "display_data"
    }
   ],
   "source": [
    "plt.plot(budget_year)"
   ]
  },
  {
   "cell_type": "code",
   "execution_count": 187,
   "metadata": {},
   "outputs": [],
   "source": [
    "decomposition = sm.tsa.seasonal_decompose(budget_year, model='additive')"
   ]
  },
  {
   "cell_type": "code",
   "execution_count": 188,
   "metadata": {},
   "outputs": [],
   "source": [
    "from pylab import rcParams # This will define a fixed size for all special charts\n",
    "\n",
    "rcParams['figure.figsize'] = 18, 7"
   ]
  },
  {
   "cell_type": "code",
   "execution_count": 189,
   "metadata": {},
   "outputs": [
    {
     "data": {
      "image/png": "[encoded data removed]",
      "text/plain": [
       "<Figure size 1296x504 with 4 Axes>"
      ]
     },
     "metadata": {},
     "output_type": "display_data"
    }
   ],
   "source": [
    "# Plot the separate components\n",
    "\n",
    "decomposition.plot()\n",
    "plt.show()"
   ]
  },
  {
   "cell_type": "markdown",
   "metadata": {},
   "source": [
    "### 4. Testing for stationarity"
   ]
  },
  {
   "cell_type": "code",
   "execution_count": 149,
   "metadata": {},
   "outputs": [
    {
     "name": "stdout",
     "output_type": "stream",
     "text": [
      "Dickey-Fuller Stationarity test:\n",
      "Test Statistic                 -2.036686\n",
      "p-value                         0.270723\n",
      "Number of Lags Used             3.000000\n",
      "Number of Observations Used    27.000000\n",
      "Critical Value (1%)            -3.699608\n",
      "Critical Value (5%)            -2.976430\n",
      "Critical Value (10%)           -2.627601\n",
      "dtype: float64\n"
     ]
    }
   ],
   "source": [
    "# The adfuller() function will import from the model from statsmodels for the test\n",
    "\n",
    "from statsmodels.tsa.stattools import adfuller # Import the adfuller() function\n",
    "\n",
    "def dickey_fuller(timeseries): # Define the function\n",
    "    # Perform the Dickey-Fuller test:\n",
    "    print ('Dickey-Fuller Stationarity test:')\n",
    "    test = adfuller(timeseries, autolag='AIC')\n",
    "    result = pd.Series(test[0:4], index=['Test Statistic','p-value','Number of Lags Used','Number of Observations Used'])\n",
    "    for key,value in test[4].items():\n",
    "       result['Critical Value (%s)'%key] = value\n",
    "    print (result)\n",
    "\n",
    "# Apply the test using the function on the time series\n",
    "dickey_fuller(budget_year['budget'])"
   ]
  },
  {
   "cell_type": "code",
   "execution_count": 150,
   "metadata": {},
   "outputs": [
    {
     "data": {
      "image/png": "[encoded data removed]",
      "text/plain": [
       "<Figure size 1296x504 with 1 Axes>"
      ]
     },
     "metadata": {},
     "output_type": "display_data"
    }
   ],
   "source": [
    "# Check out a plot of autocorrelations\n",
    "\n",
    "from statsmodels.graphics.tsaplots import plot_acf, plot_pacf\n",
    "\n",
    "# Here, I am importing the autocorrelation and partial correlation plots\n",
    "\n",
    "plot_acf(budget_year)\n",
    "plt.show()"
   ]
  },
  {
   "cell_type": "markdown",
   "metadata": {},
   "source": [
    "### 5. Stationarizing the Data"
   ]
  },
  {
   "cell_type": "code",
   "execution_count": 151,
   "metadata": {},
   "outputs": [],
   "source": [
    "budget_year_new = budget_year - budget_year.shift(1)\n",
    "# The df.shift(1) function turns the observation to t-1, making the whole thing t - (t -1)"
   ]
  },
  {
   "cell_type": "code",
   "execution_count": 152,
   "metadata": {},
   "outputs": [],
   "source": [
    "budget_year_new.dropna(inplace = True)\n",
    "# Here, I'm removing the missing values that came about as a result of the differencing\n",
    "# I need to remove these or I won't be able to run the Dickey-Fuller test"
   ]
  },
  {
   "cell_type": "code",
   "execution_count": 153,
   "metadata": {},
   "outputs": [
    {
     "data": {
      "text/html": [
       "<div>\n",
       "<style scoped>\n",
       "    .dataframe tbody tr th:only-of-type {\n",
       "        vertical-align: middle;\n",
       "    }\n",
       "\n",
       "    .dataframe tbody tr th {\n",
       "        vertical-align: top;\n",
       "    }\n",
       "\n",
       "    .dataframe thead th {\n",
       "        text-align: right;\n",
       "    }\n",
       "</style>\n",
       "<table border=\"1\" class=\"dataframe\">\n",
       "  <thead>\n",
       "    <tr style=\"text-align: right;\">\n",
       "      <th></th>\n",
       "      <th>budget</th>\n",
       "    </tr>\n",
       "    <tr>\n",
       "      <th>datetime</th>\n",
       "      <th></th>\n",
       "    </tr>\n",
       "  </thead>\n",
       "  <tbody>\n",
       "    <tr>\n",
       "      <th>1987-01-01</th>\n",
       "      <td>38757624.0</td>\n",
       "    </tr>\n",
       "    <tr>\n",
       "      <th>1988-01-01</th>\n",
       "      <td>380255000.0</td>\n",
       "    </tr>\n",
       "    <tr>\n",
       "      <th>1989-01-01</th>\n",
       "      <td>-325000.0</td>\n",
       "    </tr>\n",
       "    <tr>\n",
       "      <th>1990-01-01</th>\n",
       "      <td>261642000.0</td>\n",
       "    </tr>\n",
       "    <tr>\n",
       "      <th>1991-01-01</th>\n",
       "      <td>288004000.0</td>\n",
       "    </tr>\n",
       "  </tbody>\n",
       "</table>\n",
       "</div>"
      ],
      "text/plain": [
       "                 budget\n",
       "datetime               \n",
       "1987-01-01   38757624.0\n",
       "1988-01-01  380255000.0\n",
       "1989-01-01    -325000.0\n",
       "1990-01-01  261642000.0\n",
       "1991-01-01  288004000.0"
      ]
     },
     "execution_count": 153,
     "metadata": {},
     "output_type": "execute_result"
    }
   ],
   "source": [
    "budget_year_new.head()"
   ]
  },
  {
   "cell_type": "code",
   "execution_count": 155,
   "metadata": {},
   "outputs": [
    {
     "data": {
      "text/plain": [
       "Index(['budget'], dtype='object')"
      ]
     },
     "execution_count": 155,
     "metadata": {},
     "output_type": "execute_result"
    }
   ],
   "source": [
    "budget_year_new.columns"
   ]
  },
  {
   "cell_type": "code",
   "execution_count": 156,
   "metadata": {},
   "outputs": [
    {
     "data": {
      "text/plain": [
       "[<matplotlib.lines.Line2D at 0x1267e0490>]"
      ]
     },
     "execution_count": 156,
     "metadata": {},
     "output_type": "execute_result"
    },
    {
     "data": {
      "image/png": "[encoded data removed]",
      "text/plain": [
       "<Figure size 1500x500 with 1 Axes>"
      ]
     },
     "metadata": {},
     "output_type": "display_data"
    }
   ],
   "source": [
    "# Check out what the differencing did to the time-series curve\n",
    "\n",
    "plt.figure(figsize=(15,5), dpi=100)\n",
    "plt.plot(budget_year_new)"
   ]
  },
  {
   "cell_type": "code",
   "execution_count": 157,
   "metadata": {},
   "outputs": [
    {
     "name": "stdout",
     "output_type": "stream",
     "text": [
      "Dickey-Fuller Stationarity test:\n",
      "Test Statistic                 -1.517656\n",
      "p-value                         0.524760\n",
      "Number of Lags Used             2.000000\n",
      "Number of Observations Used    27.000000\n",
      "Critical Value (1%)            -3.699608\n",
      "Critical Value (5%)            -2.976430\n",
      "Critical Value (10%)           -2.627601\n",
      "dtype: float64\n"
     ]
    }
   ],
   "source": [
    "dickey_fuller(budget_year_new)"
   ]
  },
  {
   "cell_type": "code",
   "execution_count": 158,
   "metadata": {},
   "outputs": [
    {
     "data": {
      "image/png": "[encoded data removed]",
      "text/plain": [
       "<Figure size 1296x504 with 1 Axes>"
      ]
     },
     "metadata": {},
     "output_type": "display_data"
    }
   ],
   "source": [
    "plot_acf(budget_year_new)\n",
    "plt.show()"
   ]
  }
 ],
 "metadata": {
  "kernelspec": {
   "display_name": "Python 3",
   "language": "python",
   "name": "python3"
  },
  "language_info": {
   "codemirror_mode": {
    "name": "ipython",
    "version": 3
   },
   "file_extension": ".py",
   "mimetype": "text/x-python",
   "name": "python",
   "nbconvert_exporter": "python",
   "pygments_lexer": "ipython3",
   "version": "3.8.5"
  }
 },
 "nbformat": 4,
 "nbformat_minor": 4
}
